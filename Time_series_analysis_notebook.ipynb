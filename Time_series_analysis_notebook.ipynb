{
 "cells": [
  {
   "cell_type": "code",
   "execution_count": null,
   "metadata": {},
   "outputs": [],
   "source": [
    "#import all necessary libraries\n",
    "\n",
    "# data manipulation tools\n",
    "import pandas as pd\n",
    "import numpy as np\n",
    "import missingno as msno\n",
    "\n",
    "# data visualization tools\n",
    "import matplotlib.pyplot as plt\n",
    "import seaborn as sns\n",
    "import plotly.express as px\n",
    "\n",
    "# statistics librabry  \n",
    "from scipy import stats\n",
    "from scipy.stats import randint,uniform, mannwhitneyu\n",
    "import statistics as  stat\n",
    "\n",
    "# database connections\n",
    "import pyodbc\n",
    "from dotenv import load_dotenv,dotenv_values\n",
    "\n",
    "# data preprocessing packages\n",
    "from sklearn.impute import SimpleImputer\n",
    "from sklearn.preprocessing import OneHotEncoder,LabelEncoder, RobustScaler,FunctionTransformer\n",
    "from sklearn.model_selection import train_test_split\n",
    "from sklearn.pipeline import Pipeline\n",
    "from sklearn.compose import ColumnTransformer\n",
    "from imblearn.over_sampling import SMOTE\n",
    "from imblearn.pipeline import Pipeline as ImbPipeline\n",
    "import phik\n",
    "from phik import phik_matrix\n",
    "\n",
    "# machine learning models\n",
    "from sklearn.linear_model import LogisticRegression\n",
    "from sklearn.ensemble import RandomForestClassifier,GradientBoostingClassifier\n",
    "from sklearn.tree import DecisionTreeClassifier\n",
    "from sklearn.neighbors import KNeighborsClassifier\n",
    "from catboost import CatBoostClassifier\n",
    "\n",
    "# metrics packages\n",
    "from sklearn.metrics import classification_report, confusion_matrix, roc_curve,auc\n",
    "from sklearn.model_selection import RandomizedSearchCV\n",
    "# roc curve\n",
    "# smote for balancing\n",
    "# feature importance\n",
    "\n",
    "# saving machine learning models\n",
    "import joblib\n",
    "\n",
    "\n",
    "# hide warnings\n",
    "import warnings\n",
    "warnings.filterwarnings(\"ignore\")\n",
    "\n",
    "pd.set_option('display.max_columns', None)\n",
    " "
   ]
  },
  {
   "cell_type": "code",
   "execution_count": null,
   "metadata": {},
   "outputs": [],
   "source": [
    "# load environment variables\n",
    "environment_variables = dotenv_values(\".env\")\n",
    "\n",
    "# load database configurations\n",
    "database = environment_variables.get(\"DBN\")\n",
    "server = environment_variables.get(\"DBS\")\n",
    "username = environment_variables.get(\"DBU\")\n",
    "password = environment_variables.get(\"DBP\")\n",
    "\n",
    "# database connection string\n",
    "connection_string = f\"DRIVER={{SQL Server}};SERVER={server};DATABASE={database};UID={username};PWD={password}\"\n",
    "\n"
   ]
  },
  {
   "cell_type": "code",
   "execution_count": null,
   "metadata": {},
   "outputs": [],
   "source": [
    "# create pyodbc connector\n",
    "connection = pyodbc.connect(connection_string)"
   ]
  },
  {
   "cell_type": "code",
   "execution_count": null,
   "metadata": {},
   "outputs": [],
   "source": [
    "# Loading first dataset from MS SQL server\n",
    "query = \" SELECT * FROM dbo.LP2_Telco_churn_first_3000\"\n",
    "df_1 = pd.read_sql(query, connection)\n",
    "df_1.head(2)"
   ]
  }
 ],
 "metadata": {
  "kernelspec": {
   "display_name": "Python 3",
   "language": "python",
   "name": "python3"
  },
  "language_info": {
   "name": "python",
   "version": "3.12.3"
  }
 },
 "nbformat": 4,
 "nbformat_minor": 2
}
