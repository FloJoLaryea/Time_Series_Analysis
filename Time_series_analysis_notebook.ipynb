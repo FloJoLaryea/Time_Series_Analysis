version https://git-lfs.github.com/spec/v1
oid sha256:39c112481576b61dfc8539f509323a8b099e934dcc9f5620eaa3e400202c03c6
size 2331659
