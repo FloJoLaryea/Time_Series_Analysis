version https://git-lfs.github.com/spec/v1
oid sha256:72ad17cb98e5b69c5831ef5fd8d9e3c72d5403a1bcf2f8ba1553e6f59d7a7472
size 2989231
