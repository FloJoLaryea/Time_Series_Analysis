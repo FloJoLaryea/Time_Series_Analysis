version https://git-lfs.github.com/spec/v1
oid sha256:aefeb4e4eaa17ca39023301489f71131664d3881a3c05f2104f4e7dc31c396b8
size 2374070
