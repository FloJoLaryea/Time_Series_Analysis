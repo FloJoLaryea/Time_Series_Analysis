version https://git-lfs.github.com/spec/v1
oid sha256:e1b7a82cb3d2db21e3b5dfb367b37b8aacde3f1ac3e15c11e07c87b3cee4ef7c
size 3137980
